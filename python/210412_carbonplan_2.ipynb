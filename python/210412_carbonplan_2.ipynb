{
 "cells": [
  {
   "cell_type": "code",
   "execution_count": null,
   "metadata": {},
   "outputs": [],
   "source": [
    "# JBY: Set up env using \"ipython --pylab\" imports\n",
    "%pylab"
   ]
  },
  {
   "cell_type": "code",
   "execution_count": null,
   "metadata": {},
   "outputs": [],
   "source": [
    "%autoreload 2"
   ]
  },
  {
   "cell_type": "code",
   "execution_count": null,
   "metadata": {},
   "outputs": [],
   "source": [
    "interactive = False\n",
    "if interactive:\n",
    "    %matplotlib osx\n",
    "else:\n",
    "    %matplotlib inline\n",
    "figsize(17,6)\n",
    "rcParams['font.size'] = 16"
   ]
  },
  {
   "cell_type": "code",
   "execution_count": null,
   "metadata": {},
   "outputs": [],
   "source": [
    "import pandas as pd\n",
    "import json\n",
    "import os\n",
    "\n",
    "#from pyextra import looser"
   ]
  },
  {
   "cell_type": "markdown",
   "metadata": {},
   "source": [
    "# Misc functions"
   ]
  },
  {
   "cell_type": "markdown",
   "metadata": {},
   "source": [
    "## Load some functions from helper.py"
   ]
  },
  {
   "cell_type": "code",
   "execution_count": null,
   "metadata": {},
   "outputs": [],
   "source": [
    "from helper import DuckStruct"
   ]
  },
  {
   "cell_type": "markdown",
   "metadata": {},
   "source": [
    "## Define some functions here"
   ]
  },
  {
   "cell_type": "code",
   "execution_count": null,
   "metadata": {},
   "outputs": [],
   "source": [
    "def display_full(df):\n",
    "    with pd.option_context('display.max_columns', 2000), pd.option_context('display.max_colwidth', -1):\n",
    "        display(df)"
   ]
  },
  {
   "cell_type": "code",
   "execution_count": null,
   "metadata": {},
   "outputs": [],
   "source": [
    "def savefigs(name):\n",
    "    savefig('%s.png' % name)\n",
    "    savefig('%s.pdf' % name)"
   ]
  },
  {
   "cell_type": "markdown",
   "metadata": {},
   "source": [
    "# Load data"
   ]
  },
  {
   "cell_type": "code",
   "execution_count": null,
   "metadata": {},
   "outputs": [],
   "source": [
    "with open(os.path.join(os.getcwd(), '..', 'data', 'carbonplan_projects.json'), 'r') as ff:\n",
    "    whole_json = json.load(ff)"
   ]
  },
  {
   "cell_type": "code",
   "execution_count": null,
   "metadata": {},
   "outputs": [],
   "source": [
    "df = pd.json_normalize(whole_json['projects'])"
   ]
  },
  {
   "cell_type": "code",
   "execution_count": null,
   "metadata": {},
   "outputs": [],
   "source": [
    "df.head()"
   ]
  },
  {
   "cell_type": "markdown",
   "metadata": {},
   "source": [
    "Flatten tags for easier filtering"
   ]
  },
  {
   "cell_type": "code",
   "execution_count": null,
   "metadata": {},
   "outputs": [],
   "source": [
    "tagset = set()\n",
    "for tags in df.tags:\n",
    "    for tag in tags:\n",
    "        tagset.add(tag)\n",
    "taglist = sorted(list(tagset))"
   ]
  },
  {
   "cell_type": "code",
   "execution_count": null,
   "metadata": {},
   "outputs": [],
   "source": [
    "# Create boolean field for each tag, e.g. t_dac and t_ocean\n",
    "for tag in taglist:\n",
    "    df['t_%s' % tag] = df.tags.map(lambda x: tag in x)"
   ]
  },
  {
   "cell_type": "code",
   "execution_count": null,
   "metadata": {},
   "outputs": [],
   "source": [
    "# n_tags\n",
    "df['n_tags'] = df.tags.map(len)"
   ]
  },
  {
   "cell_type": "code",
   "execution_count": null,
   "metadata": {},
   "outputs": [],
   "source": [
    "#df.head()"
   ]
  },
  {
   "cell_type": "markdown",
   "metadata": {},
   "source": [
    "Flatten metrics"
   ]
  },
  {
   "cell_type": "code",
   "execution_count": null,
   "metadata": {},
   "outputs": [],
   "source": [
    "metrics = ['mechanism', 'volume', 'negativity', 'permanence', 'additionality', 'cost', 'specificity']\n",
    "metric_fields = ['value', 'units', 'rating', 'notes', 'comment']"
   ]
  },
  {
   "cell_type": "code",
   "execution_count": null,
   "metadata": {},
   "outputs": [],
   "source": [
    "# Ugly but works to read the nested metrics and expand\n",
    "metrics_dfs = []\n",
    "for ii in range(len(df)):\n",
    "    metrics_dfs.append(pd.json_normalize(df.metrics[ii]))"
   ]
  },
  {
   "cell_type": "code",
   "execution_count": null,
   "metadata": {},
   "outputs": [],
   "source": [
    "for metric in metrics:\n",
    "    for metric_field in metric_fields:\n",
    "        colname = '%s_%s' % (metric, metric_field)\n",
    "        #print(metric, metric_field)\n",
    "        df[colname] = [dfx[dfx['name'] == metric][metric_field].iloc[0] for dfx in metrics_dfs]"
   ]
  },
  {
   "cell_type": "code",
   "execution_count": null,
   "metadata": {},
   "outputs": [],
   "source": [
    "# Clean up\n",
    "for col in ['type', 'metrics']:\n",
    "    if col in df.columns:\n",
    "        del df[col]"
   ]
  },
  {
   "cell_type": "markdown",
   "metadata": {},
   "source": [
    "# Look at data"
   ]
  },
  {
   "cell_type": "code",
   "execution_count": null,
   "metadata": {},
   "outputs": [],
   "source": [
    "df.head(5)"
   ]
  },
  {
   "cell_type": "code",
   "execution_count": null,
   "metadata": {},
   "outputs": [],
   "source": [
    "#for col in df.columns:\n",
    "#    print(col)"
   ]
  },
  {
   "cell_type": "code",
   "execution_count": null,
   "metadata": {},
   "outputs": [],
   "source": [
    "df.columns"
   ]
  },
  {
   "cell_type": "code",
   "execution_count": null,
   "metadata": {
    "scrolled": false
   },
   "outputs": [],
   "source": [
    "display_full(df.head(1))"
   ]
  },
  {
   "cell_type": "code",
   "execution_count": null,
   "metadata": {},
   "outputs": [],
   "source": [
    "for tag in taglist:\n",
    "    print('%4d: %s' % (df['t_%s' % tag].sum(), tag))"
   ]
  },
  {
   "cell_type": "code",
   "execution_count": null,
   "metadata": {},
   "outputs": [],
   "source": [
    "display_full(df[df.t_dac & df.t_mineralization])"
   ]
  },
  {
   "cell_type": "markdown",
   "metadata": {},
   "source": [
    "# Plots"
   ]
  },
  {
   "cell_type": "code",
   "execution_count": null,
   "metadata": {},
   "outputs": [],
   "source": [
    "# Colors are those used on https://carbonplan.org/research/cdr-database\n",
    "_colors = {\n",
    "    'forests': (49.0, 70.0, 42.0),\n",
    "    'soil': (92.0, 59.0, 33.0),\n",
    "    'biomass': (83.0, 75.0, 37.0),\n",
    "    'ocean': (39.0, 73.0, 77.0),\n",
    "    'mineralization': (66.0, 71.0, 77.0),\n",
    "    'dac': (74.0, 52.0, 85.0),\n",
    "}\n",
    "colors = {k: array(v)/100.0 for k, v in _colors.items()}"
   ]
  },
  {
   "cell_type": "code",
   "execution_count": null,
   "metadata": {},
   "outputs": [],
   "source": [
    "primary_tags = list(colors.keys())\n",
    "primary_tag_set = set(primary_tags)"
   ]
  },
  {
   "cell_type": "code",
   "execution_count": null,
   "metadata": {},
   "outputs": [],
   "source": [
    "def get_pt(tags):\n",
    "    '''Returns a single primary tag (first tag from primary_tags found), or 'none' if project has no primary tags.'''\n",
    "    for pt in primary_tags:\n",
    "        if pt in tags:\n",
    "            return pt\n",
    "    else:\n",
    "        return 'none'"
   ]
  },
  {
   "cell_type": "code",
   "execution_count": null,
   "metadata": {},
   "outputs": [],
   "source": [
    "def get_clr(tags, default_clr=(.7, .7, .7)):\n",
    "    '''Returns the color of the first tag found, if any, or a default color if not.'''\n",
    "    pt = get_pt(tags)\n",
    "    return default_clr if tag == 'none' else colors[pt]"
   ]
  },
  {
   "cell_type": "code",
   "execution_count": null,
   "metadata": {},
   "outputs": [],
   "source": [
    "# Add pt column\n",
    "df['pt'] = df.tags.map(get_pt)\n",
    "# Add clr column\n",
    "df['clr'] = df.tags.map(get_clr)"
   ]
  },
  {
   "cell_type": "code",
   "execution_count": null,
   "metadata": {},
   "outputs": [],
   "source": [
    "# Does any project not have a primary tag?\n",
    "print((df.pt == 'none').sum(), 'projects are missing a primary tag')"
   ]
  },
  {
   "cell_type": "code",
   "execution_count": null,
   "metadata": {},
   "outputs": [],
   "source": [
    "figsize(18,18)\n",
    "clr_handles = {tag: None for tag in primary_tags}\n",
    "for ii, project in enumerate(df.itertuples()):\n",
    "    clr = project.clr\n",
    "    volume = project.volume_value\n",
    "    hh, = semilogx(volume, ii, 'o', mec=clr, mfc=clr, ms=15)\n",
    "    clr_handles[project.pt] = hh\n",
    "xlabel('Volume (tons)')\n",
    "ylabel('Project ID')\n",
    "legend(clr_handles.values(), clr_handles.keys())\n",
    "savefigs('carbon_plan_type_vol_separate')"
   ]
  },
  {
   "cell_type": "code",
   "execution_count": null,
   "metadata": {},
   "outputs": [],
   "source": [
    "figsize(18,4)\n",
    "for ii, project in enumerate(df.itertuples()):\n",
    "    clr = project.clr\n",
    "    y_coord = (-len(primary_tags)) if project.pt == 'none' else -primary_tags.index(project.pt)\n",
    "    volume = project.volume_value\n",
    "    semilogx(volume, y_coord, 'o', mec=clr, mfc=clr, ms=20)\n",
    "xlabel('Volume (tons)')\n",
    "yticks([])\n",
    "tight_layout()\n",
    "savefigs('carbon_plan_type_vol')"
   ]
  },
  {
   "cell_type": "code",
   "execution_count": null,
   "metadata": {},
   "outputs": [],
   "source": [
    "figsize(18,4)\n",
    "for ii, project in enumerate(df.itertuples()):\n",
    "    clr = project.clr\n",
    "    y_coord = (-len(primary_tags)) if project.pt == 'none' else -primary_tags.index(project.pt)\n",
    "    permanence = project.permanence_value\n",
    "    semilogx(permanence, y_coord, 'o', mec=clr, mfc=clr, ms=20)\n",
    "xlabel('Permanence (years)')\n",
    "yticks([])\n",
    "tight_layout()\n",
    "savefigs('carbon_plan_type_permanence')"
   ]
  },
  {
   "cell_type": "code",
   "execution_count": null,
   "metadata": {},
   "outputs": [],
   "source": [
    "figsize(18,4)\n",
    "for ii, project in enumerate(df.itertuples()):\n",
    "    clr = project.clr\n",
    "    y_coord = (-len(primary_tags)) if project.pt == 'none' else -primary_tags.index(project.pt)\n",
    "    cost = project.cost_value\n",
    "    semilogx(cost, y_coord, 'o', mec=clr, mfc=clr, ms=20)\n",
    "xlabel('Cost ($/ton)')\n",
    "yticks([])\n",
    "tight_layout()\n",
    "savefigs('carbon_plan_type_cost')"
   ]
  },
  {
   "cell_type": "markdown",
   "metadata": {},
   "source": [
    "**Plot Individual Supply curves**"
   ]
  },
  {
   "cell_type": "code",
   "execution_count": null,
   "metadata": {},
   "outputs": [],
   "source": [
    "print('Sequestration types:')\n",
    "df.pt.unique()"
   ]
  },
  {
   "cell_type": "code",
   "execution_count": null,
   "metadata": {},
   "outputs": [],
   "source": [
    "print('Sequestration types that have some cost data:')\n",
    "df[(df.cost_rating != -9999)].pt.unique()"
   ]
  },
  {
   "cell_type": "code",
   "execution_count": null,
   "metadata": {},
   "outputs": [],
   "source": [
    "display_full(df[(df.cost_rating != -9999) & (df.pt == 'mineralization')].sort_values(by='cost_value'))"
   ]
  },
  {
   "cell_type": "code",
   "execution_count": null,
   "metadata": {},
   "outputs": [],
   "source": [
    "def plot_single_vol_cost_curve(df, save_as=None, plot_legend=True):\n",
    "    df = df.sort_values(by='cost_value')\n",
    "\n",
    "    cv_cost = []\n",
    "    cv_vol = []\n",
    "    for ii, project in enumerate(df.itertuples()):\n",
    "        # Left point\n",
    "        cv_vol.append(0 if len(cv_vol) == 0 else cv_vol[-1])\n",
    "        cv_cost.append(project.cost_value)\n",
    "        # Right point\n",
    "        cv_vol.append(cv_vol[-1] + project.volume_value)\n",
    "        cv_cost.append(project.cost_value)    \n",
    "        clr = project.clr\n",
    "        pt = project.pt\n",
    "    cv_cost = array(cv_cost)\n",
    "    cv_vol = array(cv_vol)\n",
    "    #plot(cv_vol, cv_cost, c=clr)\n",
    "    fill_between(cv_vol, cv_cost, color=clr)\n",
    "    xlabel('Volume (tons)')\n",
    "    ylabel('Cost ($/ton)')\n",
    "    if plot_legend:\n",
    "        legend((pt,), loc='upper left')\n",
    "    tight_layout()\n",
    "    ylim(bottom=0)\n",
    "    if save_as:\n",
    "        savefigs(save_as)"
   ]
  },
  {
   "cell_type": "code",
   "execution_count": null,
   "metadata": {},
   "outputs": [],
   "source": [
    "figsize(18,4)\n",
    "df_filt = df[(df.cost_rating != -9999) & (df.pt == 'mineralization')]\n",
    "plot_single_vol_cost_curve(df_filt, save_as='vol_cost_mineralization')"
   ]
  },
  {
   "cell_type": "code",
   "execution_count": null,
   "metadata": {},
   "outputs": [],
   "source": [
    "for pt in df[(df.cost_rating != -9999)].pt.unique():\n",
    "    df_filt = df[(df.cost_rating != -9999) & (df.pt == pt)]\n",
    "    figure()\n",
    "    plot_single_vol_cost_curve(df_filt, save_as='vol_cost_%s' % pt)"
   ]
  },
  {
   "cell_type": "code",
   "execution_count": null,
   "metadata": {},
   "outputs": [],
   "source": []
  },
  {
   "cell_type": "markdown",
   "metadata": {},
   "source": [
    "**Plot Combined Supply curves**"
   ]
  },
  {
   "cell_type": "code",
   "execution_count": null,
   "metadata": {},
   "outputs": [],
   "source": [
    "def plot_vol_cost_curve(df, save_as=None, plot_legend=True):\n",
    "    # Creates a sorted copy\n",
    "    df = df.sort_values(by='cost_value')\n",
    "\n",
    "    df['volume_cumsum'] = df.volume_value.cumsum()\n",
    "    \n",
    "    # Each entry is [vol, cost].\n",
    "    # Separate curve for each primary tag\n",
    "    pt_dat = {pt: DuckStruct(vc_list=[[0, 0]], clr=None) for pt in df.pt.unique()}\n",
    "    \n",
    "    for ii, project in enumerate(df.itertuples()):\n",
    "        pt = project.pt\n",
    "        duck = pt_dat[pt]\n",
    "        duck.clr = project.clr\n",
    "        vc = duck.vc_list\n",
    "\n",
    "        left_vol = 0 if ii == 0 else df.volume_cumsum[ii-1]\n",
    "        right_vol = project.volume_cumsum\n",
    "        cost = project.cost_value\n",
    "        print('ii is', ii, 'and adding left_vol and right vol', left_vol, right_vol)\n",
    "        # Four points\n",
    "        vc.append([left_vol, 0])\n",
    "        vc.append([left_vol, cost])\n",
    "        vc.append([right_vol, cost])\n",
    "        vc.append([right_vol, 0])\n",
    "\n",
    "    for pt, duck in pt_dat.items():\n",
    "        duck.vc_arr = array(duck.vc_list)\n",
    "        if pt == 'mineralization':\n",
    "            #fill_between(duck.vc_arr[:,0], duck.vc_arr[:,1], color=duck.clr)\n",
    "            print('plotting')\n",
    "            plot(duck.vc_arr[:,0], duck.vc_arr[:,1], 'o-', color=duck.clr)\n",
    "            display(duck.vc_arr)\n",
    "            #display(duck.vc_arr[:,0].diff)\n",
    "            return(duck)\n",
    "    xlabel('Volume (tons)')\n",
    "    ylabel('Cost ($/ton)')\n",
    "    if plot_legend:\n",
    "        legend((pt,), loc='upper left')\n",
    "    tight_layout()\n",
    "    ylim(bottom=0)\n",
    "    if save_as:\n",
    "        savefigs(save_as)\n",
    "        "
   ]
  },
  {
   "cell_type": "code",
   "execution_count": null,
   "metadata": {},
   "outputs": [],
   "source": [
    "df[(df.cost_rating != -9999)].pt.unique()"
   ]
  },
  {
   "cell_type": "code",
   "execution_count": null,
   "metadata": {},
   "outputs": [],
   "source": [
    "figsize(18,6)\n",
    "df_filt = df[(df.cost_rating != -9999)]\n",
    "duck = plot_vol_cost_curve(df_filt)"
   ]
  },
  {
   "cell_type": "code",
   "execution_count": null,
   "metadata": {},
   "outputs": [],
   "source": []
  },
  {
   "cell_type": "code",
   "execution_count": null,
   "metadata": {},
   "outputs": [],
   "source": []
  },
  {
   "cell_type": "code",
   "execution_count": null,
   "metadata": {},
   "outputs": [],
   "source": []
  }
 ],
 "metadata": {
  "kernelspec": {
   "display_name": "Python 3",
   "language": "python",
   "name": "python3"
  },
  "language_info": {
   "codemirror_mode": {
    "name": "ipython",
    "version": 3
   },
   "file_extension": ".py",
   "mimetype": "text/x-python",
   "name": "python",
   "nbconvert_exporter": "python",
   "pygments_lexer": "ipython3",
   "version": "3.9.2"
  },
  "toc": {
   "base_numbering": 1,
   "nav_menu": {},
   "number_sections": true,
   "sideBar": true,
   "skip_h1_title": false,
   "title_cell": "Table of Contents",
   "title_sidebar": "Contents",
   "toc_cell": false,
   "toc_position": {},
   "toc_section_display": true,
   "toc_window_display": false
  }
 },
 "nbformat": 4,
 "nbformat_minor": 4
}
