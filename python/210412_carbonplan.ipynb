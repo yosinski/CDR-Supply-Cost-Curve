{
 "cells": [
  {
   "cell_type": "code",
   "execution_count": null,
   "metadata": {
    "scrolled": true
   },
   "outputs": [],
   "source": [
    "# JBY: Set up env using \"ipython --pylab\" imports\n",
    "%pylab\n",
    "%autoreload 2"
   ]
  },
  {
   "cell_type": "code",
   "execution_count": null,
   "metadata": {},
   "outputs": [],
   "source": [
    "interactive = False\n",
    "if interactive:\n",
    "    %matplotlib osx\n",
    "else:\n",
    "    %matplotlib inline\n",
    "figsize(17,6)\n",
    "rcParams['font.size'] = 18"
   ]
  },
  {
   "cell_type": "code",
   "execution_count": null,
   "metadata": {},
   "outputs": [],
   "source": [
    "import pandas as pd\n",
    "import json\n",
    "import os"
   ]
  },
  {
   "cell_type": "code",
   "execution_count": null,
   "metadata": {},
   "outputs": [],
   "source": [
    "# Local imports\n",
    "from helper import colors, primary_tags, primary_tag_set, primary_tags_carbonplan_pt_order, get_pt, get_clr, lsprint, display_full"
   ]
  },
  {
   "cell_type": "markdown",
   "metadata": {},
   "source": [
    "# Misc function definitions"
   ]
  },
  {
   "cell_type": "code",
   "execution_count": null,
   "metadata": {},
   "outputs": [],
   "source": [
    "global_skip_save = False\n",
    "\n",
    "def savefigs(name):\n",
    "    if not global_skip_save:\n",
    "        savefig('%s.png' % name)\n",
    "        savefig('%s.pdf' % name)"
   ]
  },
  {
   "cell_type": "markdown",
   "metadata": {},
   "source": [
    "# Load data"
   ]
  },
  {
   "cell_type": "code",
   "execution_count": null,
   "metadata": {},
   "outputs": [],
   "source": [
    "first_year = 2020\n",
    "last_year = 2035\n",
    "n_years = last_year - first_year + 1       # 16 years from 2020 - 2035, inclusive"
   ]
  },
  {
   "cell_type": "code",
   "execution_count": null,
   "metadata": {},
   "outputs": [],
   "source": [
    "with open(os.path.join(os.getcwd(), '..', 'data', 'Supply_Cost_Projections_df.csv'), 'r') as ff:\n",
    "    df = pd.read_csv(ff)"
   ]
  },
  {
   "cell_type": "code",
   "execution_count": null,
   "metadata": {},
   "outputs": [],
   "source": [
    "#df = pd.json_normalize(whole_json['projects'])"
   ]
  },
  {
   "cell_type": "code",
   "execution_count": null,
   "metadata": {},
   "outputs": [],
   "source": [
    "df.shape"
   ]
  },
  {
   "cell_type": "code",
   "execution_count": null,
   "metadata": {},
   "outputs": [],
   "source": [
    "#df.head()"
   ]
  },
  {
   "cell_type": "markdown",
   "metadata": {},
   "source": [
    "# Clean and standardize data"
   ]
  },
  {
   "cell_type": "code",
   "execution_count": null,
   "metadata": {},
   "outputs": [],
   "source": [
    "# Convert from string like \"['forests', 'reforestation']\" to list of strings\n",
    "if df.tags.isna().any():\n",
    "    raise Exception('Missing tags for these entries. Populate them in the spreadsheet and re-download:\\n%s' % df.id[df.tags.isna()])\n",
    "df.tags = df.tags.map(lambda x: json.loads(x.replace(\"'\", '\"')))"
   ]
  },
  {
   "cell_type": "code",
   "execution_count": null,
   "metadata": {},
   "outputs": [],
   "source": [
    "# If people left \"applicant\" blank, fill it in with data from the ID column\n",
    "sel = df.applicant.isna()\n",
    "df.loc[sel, 'applicant'] = df.loc[sel, 'id']"
   ]
  },
  {
   "cell_type": "markdown",
   "metadata": {},
   "source": [
    "## Cost and volume data"
   ]
  },
  {
   "cell_type": "markdown",
   "metadata": {},
   "source": [
    "If cost is provided in cost_2020_min column, take it as valid.\n",
    "\n",
    "If not, then if cost is provided in cost_value column AND the cost_rating is not -9999, copy to cost_2020_min colum and mark as valid.\n",
    "\n",
    "Note that this rules out two MS Forestry projects that have a cost but where it is marked as -9999 (unless someone researches those options and enters their evaluation of the cost in cost_2020_min)"
   ]
  },
  {
   "cell_type": "code",
   "execution_count": null,
   "metadata": {},
   "outputs": [],
   "source": [
    "selector_copy_from_cost_val = (df.cost_value.map(bool) & \n",
    "                               (df.cost_rating != -9999) & \n",
    "                               (df.cost_2020_min.isna()))\n",
    "df.loc[selector_copy_from_cost_val, 'cost_2020_min'] = df[selector_copy_from_cost_val].cost_value\n",
    "df['valid_cost'] = df.cost_2020_min.notna()"
   ]
  },
  {
   "cell_type": "markdown",
   "metadata": {},
   "source": [
    "Ditto for volume"
   ]
  },
  {
   "cell_type": "code",
   "execution_count": null,
   "metadata": {},
   "outputs": [],
   "source": [
    "selector_copy_from_volume_val = (df.volume_value.map(bool) & \n",
    "                                (df.volume_rating != -9999) & \n",
    "                                (df.vol_2020_min.isna()))\n",
    "df.loc[selector_copy_from_volume_val, 'vol_2020_min'] = df[selector_copy_from_volume_val].volume_value\n",
    "df['valid_volume'] = df.vol_2020_min.notna()"
   ]
  },
  {
   "cell_type": "markdown",
   "metadata": {},
   "source": [
    "Mark those rows with valid volume and cost. Only these rows will be plotted later"
   ]
  },
  {
   "cell_type": "code",
   "execution_count": null,
   "metadata": {},
   "outputs": [],
   "source": [
    "df['valid_vc'] = (df['valid_volume'] & df['valid_cost'])"
   ]
  },
  {
   "cell_type": "code",
   "execution_count": null,
   "metadata": {},
   "outputs": [],
   "source": [
    "# Ensure permanence_value is filled in where needed\n",
    "# If you overlook this Exception many plots can still be made, but adjustments for leakage later will fail.\n",
    "sel = (df.valid_vc & df.permanence_value.isna())\n",
    "if sel.any():\n",
    "    raise Exception('Missing permanance_value for these entries. Populate them in the spreadsheet and re-download:\\n%s' % df.id[sel])"
   ]
  },
  {
   "cell_type": "code",
   "execution_count": null,
   "metadata": {},
   "outputs": [],
   "source": [
    "# Function defs\n",
    "\n",
    "def get_array_all_years(project, pattern):\n",
    "    '''Pattern like \"cost_%s_min\"'''\n",
    "    return array([getattr(project, pattern % year) for year in range(first_year, last_year + 1)])\n",
    "\n",
    "def min_cost_array(project): return get_array_all_years(project, 'cost_%s_min')\n",
    "def max_cost_array(project): return get_array_all_years(project, 'cost_%s_max')\n",
    "def min_vol_array(project): return get_array_all_years(project, 'vol_%s_min')\n",
    "def max_vol_array(project): return get_array_all_years(project, 'vol_%s_max')\n",
    "\n",
    "def min_cost_df(project): return pd.DataFrame(get_array_all_years(project, 'cost_%s_min'))\n",
    "def max_cost_df(project): return pd.DataFrame(get_array_all_years(project, 'cost_%s_max'))\n",
    "def min_vol_df(project): return pd.DataFrame(get_array_all_years(project, 'vol_%s_min'))\n",
    "def max_vol_df(project): return pd.DataFrame(get_array_all_years(project, 'vol_%s_max'))\n",
    "\n",
    "def get_costs(project):\n",
    "    '''Return average costs for all years'''\n",
    "    #c_min = array([getattr(project, 'cost_%s_min' % year) for year in range(first_year, last_year + 1)])\n",
    "    #c_max = array([getattr(project, 'cost_%s_max' % year) for year in range(first_year, last_year + 1)])    \n",
    "    return (min_cost_array(project) + max_cost_array(project)) / 2\n",
    "\n",
    "def get_vols(project):\n",
    "    '''Return average volumes for all years'''\n",
    "    #v_min = array([getattr(project, 'vol_%s_min' % year) for year in range(first_year, last_year + 1)])\n",
    "    #v_max = array([getattr(project, 'vol_%s_max' % year) for year in range(first_year, last_year + 1)])    \n",
    "    return (min_vol_array(project) + max_vol_array(project)) / 2\n",
    "\n",
    "def write_yearly_data_to_df(df, idx, yearly_data_array, pattern):\n",
    "    '''Writes the data in yearly_data_array back to df at the given row index and\n",
    "    for all years to the columns described by pattern.\n",
    "    Ugly, but 🤷‍♂️'''\n",
    "    \n",
    "    assert len(yearly_data_array) == n_years, 'Wrong length data'\n",
    "    for ii, year in enumerate(range(first_year, last_year + 1)):\n",
    "        df.at[idx, pattern % year] = yearly_data_array[ii]"
   ]
  },
  {
   "cell_type": "markdown",
   "metadata": {},
   "source": [
    "Interpolate any missing data exponentially in time. Uses [pandas.DataFrame.interpolate](https://pandas.pydata.org/docs/reference/api/pandas.DataFrame.interpolate.html)"
   ]
  },
  {
   "cell_type": "code",
   "execution_count": null,
   "metadata": {},
   "outputs": [],
   "source": [
    "# Make non-null volumes at least 10 to avoid very low values on log-scale volume plots\n",
    "# and problems with exponential interpolation\n",
    "\n",
    "for year in range(first_year, last_year + 1):\n",
    "    col = 'vol_%s_min' % year\n",
    "    sel = df.valid_vc & df[col].notna() & (df[col] < 10.0)\n",
    "    df.loc[sel, col] = 10.0\n",
    "    \n",
    "    col = 'vol_%s_max' % year\n",
    "    sel = df.valid_vc & df[col].notna() & (df[col] < 10.0)\n",
    "    df.loc[sel, col] = 10.0"
   ]
  },
  {
   "cell_type": "code",
   "execution_count": null,
   "metadata": {},
   "outputs": [],
   "source": [
    "def exponential_interpolate(df):\n",
    "    for project in df.itertuples():\n",
    "        if not project.valid_vc:\n",
    "            continue\n",
    "        #print(project.Index)\n",
    "        \n",
    "        tmp = exp(log(min_cost_df(project)).interpolate()).to_numpy()\n",
    "        write_yearly_data_to_df(df, project.Index, tmp, 'cost_%s_min')\n",
    "\n",
    "        tmp = exp(log(max_cost_df(project)).interpolate()).to_numpy()\n",
    "        write_yearly_data_to_df(df, project.Index, tmp, 'cost_%s_max')\n",
    "\n",
    "        tmp = exp(log(min_vol_df(project)).interpolate()).to_numpy()\n",
    "        write_yearly_data_to_df(df, project.Index, tmp, 'vol_%s_min')\n",
    "\n",
    "        tmp = exp(log(max_vol_df(project)).interpolate()).to_numpy()\n",
    "        write_yearly_data_to_df(df, project.Index, tmp, 'vol_%s_max')\n",
    "                \n",
    "        #write_min_costs(min_costs)"
   ]
  },
  {
   "cell_type": "code",
   "execution_count": null,
   "metadata": {},
   "outputs": [],
   "source": [
    "exponential_interpolate(df)"
   ]
  },
  {
   "cell_type": "markdown",
   "metadata": {},
   "source": [
    "Make non-null volumes at least 10 to avoid zero or very low values on log-scale volume plots. Make max always at least as large as min."
   ]
  },
  {
   "cell_type": "code",
   "execution_count": null,
   "metadata": {},
   "outputs": [],
   "source": [
    "# Make max always at least as large as min and fill max in with min if it's blank\n",
    "\n",
    "for year in range(first_year, last_year + 1):    \n",
    "    # Copy any min cost to max if max is less or nan\n",
    "    min_col, col = ('cost_%s_min' % year), ('cost_%s_max' % year)\n",
    "    sel = df.valid_vc & (~(df[col] > df[min_col]))\n",
    "    df.loc[sel, col] = df.loc[sel, min_col]\n",
    "\n",
    "    # Copy any min vol to max if max is less or nan\n",
    "    min_col, col = ('vol_%s_min' % year), ('vol_%s_max' % year)\n",
    "    sel = df.valid_vc & (~(df[col] > df[min_col]))\n",
    "    df.loc[sel, col] = df.loc[sel, min_col]"
   ]
  },
  {
   "cell_type": "markdown",
   "metadata": {},
   "source": [
    "Run some basic checks"
   ]
  },
  {
   "cell_type": "code",
   "execution_count": null,
   "metadata": {},
   "outputs": [],
   "source": [
    "def assert_mins_maxes_are_sane():\n",
    "    for year in range(first_year, last_year + 1):\n",
    "        assert df[df.valid_vc]['cost_%s_min' % year].notnull().all(), year\n",
    "        assert df[df.valid_vc]['cost_%s_max' % year].notnull().all(), year\n",
    "        assert df[df.valid_vc]['vol_%s_min' % year].notnull().all(), year\n",
    "        assert df[df.valid_vc]['vol_%s_max' % year].notnull().all(), year\n",
    "        assert (df[df.valid_vc]['cost_%s_max' % year] >= df[df.valid_vc]['cost_%s_min' % year]).all(), year\n",
    "        assert (df[df.valid_vc]['vol_%s_max' % year] >= df[df.valid_vc]['vol_%s_min' % year]).all(), year"
   ]
  },
  {
   "cell_type": "code",
   "execution_count": null,
   "metadata": {},
   "outputs": [],
   "source": [
    "# Run some basic checks\n",
    "assert_mins_maxes_are_sane()"
   ]
  },
  {
   "cell_type": "markdown",
   "metadata": {},
   "source": [
    "## Misc checks, cleaning, and standardization"
   ]
  },
  {
   "cell_type": "code",
   "execution_count": null,
   "metadata": {},
   "outputs": [],
   "source": [
    "# Check volume_units\n",
    "unique_units = df[df.valid_vc].volume_units.dropna().unique()\n",
    "assert len(unique_units) == 1, 'Expected only one unit'\n",
    "assert unique_units[0] == 'tCO₂', 'Expected other unit'\n",
    "\n",
    "# Check permanence_units\n",
    "unique_units = df[df.valid_vc].permanence_units.dropna().unique()\n",
    "assert len(unique_units) == 1, 'Expected only one unit'\n",
    "assert unique_units[0] == 'years', 'Expected other unit'\n",
    "\n",
    "# Check cost_units\n",
    "assert (df[df.cost_units == '$/tCO₂-year'].permanence_value == 1).all(), 'Need to deal with different units. Cost is given as %/t/y but permanence is not 1.0 years'\n",
    "unique_units = set(df[df.valid_vc].cost_units.dropna().unique())\n",
    "unique_units.discard('$/tCO₂-year')\n",
    "assert len(unique_units) == 1, 'Expected only one cost unit (possibly besides $/tCO₂-year)'\n",
    "assert list(unique_units)[0] == '$/tCO₂', 'Expected other unit'"
   ]
  },
  {
   "cell_type": "markdown",
   "metadata": {},
   "source": [
    "If pt is missing, fill in from tags column"
   ]
  },
  {
   "cell_type": "code",
   "execution_count": null,
   "metadata": {},
   "outputs": [],
   "source": [
    "sel = df.pt.isna()\n",
    "df.loc[sel, 'pt'] = df.tags.map(get_pt)\n",
    "\n",
    "# Check that pt column is filled in correctly\n",
    "assert (df.pt != df.tags.map(get_pt)).sum() == 0, 'Some primary tag stored in the pt column does not match the computed primary tag.'\n",
    "\n",
    "# Does any project not have a primary tag?\n",
    "print(((df.pt == 'none') | (df.pt.isna())).sum(), 'projects are missing a primary tag')"
   ]
  },
  {
   "cell_type": "markdown",
   "metadata": {},
   "source": [
    "Extract different aggregation groups"
   ]
  },
  {
   "cell_type": "code",
   "execution_count": null,
   "metadata": {},
   "outputs": [],
   "source": [
    "projection_groups = {}\n",
    "print('Available projection groups by primary tag:')\n",
    "for pt in primary_tags:\n",
    "    projection_groups[pt] = list(df[df.pt == pt].projection_group.unique())\n",
    "    print('%16s: %s' % (pt, projection_groups[pt]))"
   ]
  },
  {
   "cell_type": "code",
   "execution_count": null,
   "metadata": {},
   "outputs": [],
   "source": [
    "# Get selector the prefers \"aggregate\" grouping but falls back to \"company\" if not available\n",
    "print('Selections for \"aggregate\" grouping with fallback to companies:')\n",
    "sel_prefer_aggregate = False & df.valid_vc    # Initially select nothing\n",
    "for pt, groups in projection_groups.items():\n",
    "    which_group = 'aggregate' if 'aggregate' in groups else 'company'\n",
    "    sel_this = (df.pt == pt) & (df.projection_group == which_group)\n",
    "    print('%16s: selected %3d entries from group %s' % (pt, sel_this.sum(), which_group))\n",
    "    sel_prefer_aggregate |= sel_this"
   ]
  },
  {
   "cell_type": "code",
   "execution_count": null,
   "metadata": {},
   "outputs": [],
   "source": [
    "# Note from Jason: this is not used yet but could be useful to define before final presentation\n",
    "# Get a selector uses only the \"summary\" grouping with no fallback\n",
    "sel_just_summary = (df.valid_vc & (df.projection_group == 'summary'))"
   ]
  },
  {
   "cell_type": "code",
   "execution_count": null,
   "metadata": {},
   "outputs": [],
   "source": [
    "assert set(primary_tags_carbonplan_pt_order) == primary_tag_set, 'Set of primary tags must be the same!'\n",
    "print('Primary tags in plot order:\\n', primary_tags)\n",
    "print('Primary tags in pt order:  \\n', primary_tags_carbonplan_pt_order)"
   ]
  },
  {
   "cell_type": "code",
   "execution_count": null,
   "metadata": {},
   "outputs": [],
   "source": [
    "# Add clr column\n",
    "df['clr'] = df.tags.map(get_clr)"
   ]
  },
  {
   "cell_type": "markdown",
   "metadata": {},
   "source": [
    "Flatten tags for easier filtering and show how many projects have each tag"
   ]
  },
  {
   "cell_type": "code",
   "execution_count": null,
   "metadata": {},
   "outputs": [],
   "source": [
    "tagset = set()\n",
    "for tags in df.tags:\n",
    "    for tag in tags:\n",
    "        tagset.add(tag)\n",
    "taglist = sorted(list(tagset))\n",
    "\n",
    "# Create boolean field for each tag, e.g. t_dac and t_ocean\n",
    "for tag in taglist:\n",
    "    df['t_%s' % tag] = df.tags.map(lambda x: tag in x)\n",
    "# n_tags\n",
    "df['n_tags'] = df.tags.map(len)\n",
    "\n",
    "for tag in taglist:\n",
    "    print('%4d: %s' % (df['t_%s' % tag].sum(), tag))"
   ]
  },
  {
   "cell_type": "markdown",
   "metadata": {},
   "source": [
    "# Data basics"
   ]
  },
  {
   "cell_type": "code",
   "execution_count": null,
   "metadata": {},
   "outputs": [],
   "source": [
    "df.head(5)"
   ]
  },
  {
   "cell_type": "code",
   "execution_count": null,
   "metadata": {},
   "outputs": [],
   "source": [
    "print('Columns in df:')\n",
    "lsprint(df.columns.to_list())"
   ]
  },
  {
   "cell_type": "markdown",
   "metadata": {},
   "source": [
    "# Define cost adjustments for credit leakage"
   ]
  },
  {
   "cell_type": "code",
   "execution_count": null,
   "metadata": {},
   "outputs": [],
   "source": [
    "def get_leak_cost_mult(permanence, wacc=1.05, model='exponential'):\n",
    "    if model == 'exponential':\n",
    "        return 1 + (1 - exp(-1/permanence)) * 1/(1 - 1/wacc) / wacc\n",
    "    else:\n",
    "        raise Exception('Unrecognized model: %s' % model)"
   ]
  },
  {
   "cell_type": "markdown",
   "metadata": {},
   "source": [
    "# Plots"
   ]
  },
  {
   "cell_type": "markdown",
   "metadata": {},
   "source": [
    "## Reproduce Carbon Plan plots"
   ]
  },
  {
   "cell_type": "markdown",
   "metadata": {},
   "source": [
    "Note: the first versions of these plots matched those on the [Carbon Plan CDR Database](https://carbonplan.org/research/cdr-database) exactly (except Carbon Plan seems to clip their volumes as plotted to the [10, 1M] window). Subsequent edits to the data have moved some points"
   ]
  },
  {
   "cell_type": "code",
   "execution_count": null,
   "metadata": {},
   "outputs": [],
   "source": [
    "# For these plots, filter just to the 'company' projection group\n",
    "sel = (df.projection_group == 'company')"
   ]
  },
  {
   "cell_type": "code",
   "execution_count": null,
   "metadata": {},
   "outputs": [],
   "source": [
    "figsize(18,8)\n",
    "clr_handles = {tag: None for tag in primary_tags}\n",
    "for ii, project in enumerate(df[sel].itertuples()):\n",
    "    clr = project.clr\n",
    "    volume = project.volume_value\n",
    "    hh, = semilogx(volume, ii, 'o', mec=clr, mfc=clr, ms=15)\n",
    "    clr_handles[project.pt] = hh\n",
    "xlabel('Volume (tons)')\n",
    "ylabel('Project ID')\n",
    "legend(clr_handles.values(), clr_handles.keys())\n",
    "savefigs('carbon_plan_type_vol_separate')"
   ]
  },
  {
   "cell_type": "code",
   "execution_count": null,
   "metadata": {},
   "outputs": [],
   "source": [
    "figsize(18,4)\n",
    "for ii, project in enumerate(df[sel].itertuples()):\n",
    "    clr = project.clr\n",
    "    y_coord = (-len(primary_tags)) if project.pt == 'none' else -primary_tags.index(project.pt)\n",
    "    volume = project.volume_value\n",
    "    semilogx(volume, y_coord, 'o', mec=clr, mfc=clr, ms=20)\n",
    "xlabel('Volume (tons)')\n",
    "yticks([])\n",
    "tight_layout()\n",
    "savefigs('carbon_plan_type_vol')"
   ]
  },
  {
   "cell_type": "code",
   "execution_count": null,
   "metadata": {},
   "outputs": [],
   "source": [
    "figsize(18,4)\n",
    "for ii, project in enumerate(df[sel].itertuples()):\n",
    "    clr = project.clr\n",
    "    y_coord = (-len(primary_tags)) if project.pt == 'none' else -primary_tags.index(project.pt)\n",
    "    permanence = project.permanence_value\n",
    "    semilogx(permanence, y_coord, 'o', mec=clr, mfc=clr, ms=20)\n",
    "xlabel('Permanence (years)')\n",
    "yticks([])\n",
    "tight_layout()\n",
    "savefigs('carbon_plan_type_permanence')"
   ]
  },
  {
   "cell_type": "code",
   "execution_count": null,
   "metadata": {},
   "outputs": [],
   "source": [
    "figsize(18,4)\n",
    "for ii, project in enumerate(df[sel].itertuples()):\n",
    "    clr = project.clr\n",
    "    y_coord = (-len(primary_tags)) if project.pt == 'none' else -primary_tags.index(project.pt)\n",
    "    cost = project.cost_value\n",
    "    semilogx(cost, y_coord, 'o', mec=clr, mfc=clr, ms=20)\n",
    "xlabel('Cost ($/ton)')\n",
    "yticks([])\n",
    "tight_layout()\n",
    "savefigs('carbon_plan_type_cost')"
   ]
  },
  {
   "cell_type": "markdown",
   "metadata": {},
   "source": [
    "## Volume vs. Cost as Points (`vcp_*` files)"
   ]
  },
  {
   "cell_type": "code",
   "execution_count": null,
   "metadata": {},
   "outputs": [],
   "source": [
    "def nice_vc_axes(skip_x=False):\n",
    "    ax = axis()\n",
    "    yticks([1, 2, 3, 4, 5, 6, 7, 8, 9,\n",
    "            10, 20, 30, 40, 50, 60, 70, 80, 90,\n",
    "            100, 200, 300, 400, 500, 600, 700, 800, 900, 1000,\n",
    "           2000, 3000, 4000, 5000, 6000, 7000, 8000, 9000])\n",
    "    grid(b=True, which='major', c=(.85, .85, .85), ls='--')\n",
    "    gca().yaxis.set_major_formatter('${x:1.0f}')\n",
    "    if not skip_x:\n",
    "        xticks(10 ** arange(3*4),\n",
    "               ['1', '10', '100', '1k', '10k', '100k', '1M', '10M', '100M', '1G', '10G', '100G'])\n",
    "    axis(ax)  # Necessary to avoid plot expanding to include all ticks"
   ]
  },
  {
   "cell_type": "code",
   "execution_count": null,
   "metadata": {},
   "outputs": [],
   "source": [
    "def plot_vcp(df, start=2020, end=2025, logx=True, logy=True, leak_cost_wacc=None, ax=None,\n",
    "             ret_ax=False, do_legend=False, do_text=True, save_as=None):\n",
    "    '''Plot data from first year to last year, highlighting last year.\n",
    "    \n",
    "    If leak_cost_wacc is given (e.g. 1.05 to represent the capital costs or returns 5% per year interest\n",
    "    over inflation) then costs increased to take into account needing to replenish any leaked tons.\n",
    "    If it is None, then costs from the spreadsheet are used directly.'''\n",
    "\n",
    "    # Convert from years to slice index\n",
    "    start_ii = start - first_year\n",
    "    end_ii = end - first_year\n",
    "    \n",
    "    do_leak = leak_cost_wacc is not None\n",
    "    if do_leak:\n",
    "        df = df.copy()  # Create a local copy so we can add a column without SettingWithCopyWarning for sliced incoming dfs\n",
    "        assert (leak_cost_wacc > 1 and leak_cost_wacc < 2), 'leak_cost_wacc should be e.g. 1.05 to represent 5%% cost of capital, but it is %g which does not look right' % leak_cost_wacc \n",
    "        # Add a temporary column for each project's leakage multiplier\n",
    "        df['leak_cost_mult'] = df.apply(lambda x: get_leak_cost_mult(x['permanence_value'], wacc=leak_cost_wacc), axis=1)\n",
    "    \n",
    "    legend_handles = {tag: None for tag in primary_tags}\n",
    "    for ii, project in enumerate(df.itertuples()):\n",
    "        #print('project is', type(project))\n",
    "        clr = project.clr\n",
    "        clr_lighter = tuple(clr) + (.5,)\n",
    "        vols = get_vols(project)\n",
    "        costs = get_costs(project) * (project.leak_cost_mult if do_leak else 1.0)\n",
    "        #costs = get_costs(project)\n",
    "        \n",
    "        #plfn(vols[start_ii], costs[start_ii], 'o', mec=clr, mfc='w', ms=14)\n",
    "        #plfn(vols[start_ii:end_ii+1], costs[start_ii:end_ii+1], '-', c=clr)\n",
    "        plot(vols[start_ii:end_ii+1], costs[start_ii:end_ii+1], '-o', c=clr_lighter, mec=clr, mfc='w', ms=14)\n",
    "        legend_handles[project.pt], = plot(vols[end_ii], costs[end_ii], 'o', mec=clr, mfc=clr, ms=20, zorder=2.5)\n",
    "        if do_text:\n",
    "            text(vols[end_ii], costs[end_ii], '   %s' % project.applicant)\n",
    "    #text(10*.7, 1000, '%s' % end)\n",
    "    if do_legend:\n",
    "        legend(legend_handles.values(), legend_handles.keys(), loc='upper right')\n",
    "    annotate('%s' % end, xy=(.02, .94), xycoords='axes fraction', va='bottom', fontsize=32)\n",
    "    if do_leak:\n",
    "        annotate('✔️ Forever (WACC %.1f%%)' % ((leak_cost_wacc - 1) * 100), xy=(.02, .94), xycoords='axes fraction', va='top', fontsize=16)\n",
    "    xlabel('Volume (tons)')\n",
    "    ylabel('Cost ($/ton)')\n",
    "    if logx: gca().set_xscale('log')\n",
    "    if logy: gca().set_yscale('log')\n",
    "    nice_vc_axes(skip_x=not logx)\n",
    "    tight_layout()\n",
    "    if ax:\n",
    "        axis(ax)\n",
    "    if save_as:\n",
    "        savefigs(save_as)\n",
    "    if ret_ax:\n",
    "        return axis()"
   ]
  },
  {
   "cell_type": "markdown",
   "metadata": {},
   "source": [
    "### In the year 2020"
   ]
  },
  {
   "cell_type": "code",
   "execution_count": null,
   "metadata": {},
   "outputs": [],
   "source": [
    "figsize(18,12)\n",
    "sel = (df.valid_vc & (df.projection_group == 'company'))\n",
    "plot_vcp(df[sel], end=2020, save_as='vcp_2020')"
   ]
  },
  {
   "cell_type": "code",
   "execution_count": null,
   "metadata": {},
   "outputs": [],
   "source": [
    "figsize(18,12)\n",
    "sel = (df.valid_vc & (df.projection_group == 'company'))\n",
    "plot_vcp(df[sel], end=2020, leak_cost_wacc=1.05, save_as='vcp_2020_leak1.05')"
   ]
  },
  {
   "cell_type": "code",
   "execution_count": null,
   "metadata": {},
   "outputs": [],
   "source": [
    "#TMPPPPPPPPPP\n",
    "figsize(18,12)\n",
    "sel = (df.valid_vc & (df.projection_group == 'company'))\n",
    "plot_vcp(df[sel], end=2023, leak_cost_wacc=1.05, do_text=False, do_legend=True, save_as='vcp_2020_leak1.05')"
   ]
  },
  {
   "cell_type": "code",
   "execution_count": null,
   "metadata": {},
   "outputs": [],
   "source": [
    "figsize(18,12)\n",
    "sel = (df.valid_vc & (df.projection_group == 'company'))\n",
    "ax = plot_vcp(df[sel], end=2020, ret_ax=True); clf()   # Get axis of above plot\n",
    "plot_vcp(df[sel], end=2020, leak_cost_wacc=1.05, ax=ax, save_as='vcp_2020_leak1.05_sameax')"
   ]
  },
  {
   "cell_type": "code",
   "execution_count": null,
   "metadata": {},
   "outputs": [],
   "source": [
    "# TODO: custom plot showing how costs shift up. Draw both non-leaky and leaky points."
   ]
  },
  {
   "cell_type": "code",
   "execution_count": null,
   "metadata": {},
   "outputs": [],
   "source": [
    "# Example just to show Forever Ton cost with very high cost of future capital\n",
    "figsize(18,12)\n",
    "sel = (df.valid_vc & (df.projection_group == 'company'))\n",
    "plot_vcp(df[sel], end=2020, leak_cost_wacc=1.01, save_as='vcp_2020_leak1.01')"
   ]
  },
  {
   "cell_type": "code",
   "execution_count": null,
   "metadata": {},
   "outputs": [],
   "source": [
    "# Aggregate: messy version with companies and aggregations\n",
    "figsize(18,12)\n",
    "sel = (df.valid_vc & (sel_prefer_aggregate | (df.projection_group == 'company')))\n",
    "plot_vcp(df[sel], end=2020, save_as='vcp_2020_coandag')"
   ]
  },
  {
   "cell_type": "code",
   "execution_count": null,
   "metadata": {},
   "outputs": [],
   "source": [
    "# Aggregate: Just aggregations\n",
    "figsize(18,12)\n",
    "sel = (df.valid_vc & sel_prefer_aggregate)\n",
    "plot_vcp(df[sel], end=2020, save_as='vcp_2020_ag')"
   ]
  },
  {
   "cell_type": "code",
   "execution_count": null,
   "metadata": {},
   "outputs": [],
   "source": [
    "# Aggregate: messy version with companies and aggregations. With leak.\n",
    "# Will generate errors if you ignored the \"# Ensure permanence_value is filled in where needed\" block above\n",
    "figsize(18,12)\n",
    "sel = (df.valid_vc & (sel_prefer_aggregate | (df.projection_group == 'company')))\n",
    "plot_vcp(df[sel], end=2020, leak_cost_wacc=1.05, save_as='vcp_2020_coandag_leak1.05')"
   ]
  },
  {
   "cell_type": "code",
   "execution_count": null,
   "metadata": {},
   "outputs": [],
   "source": [
    "# Aggregate: Just aggregations. With leak.\n",
    "figsize(18,12)\n",
    "sel = (df.valid_vc & sel_prefer_aggregate)\n",
    "plot_vcp(df[sel], end=2020, leak_cost_wacc=1.05, save_as='vcp_2020_ag_leak1.05')"
   ]
  },
  {
   "cell_type": "markdown",
   "metadata": {},
   "source": [
    "### At the year 2035"
   ]
  },
  {
   "cell_type": "code",
   "execution_count": null,
   "metadata": {},
   "outputs": [],
   "source": [
    "figsize(18,12)\n",
    "sel = (df.valid_vc & (df.projection_group == 'company'))\n",
    "plot_vcp(df[sel], end=2035, save_as='vcp_2035')"
   ]
  },
  {
   "cell_type": "code",
   "execution_count": null,
   "metadata": {},
   "outputs": [],
   "source": [
    "figsize(18,12)\n",
    "sel = (df.valid_vc & (df.projection_group == 'company'))\n",
    "plot_vcp(df[sel], end=2035, leak_cost_wacc=1.05, save_as='vcp_2035_leak1.05')"
   ]
  },
  {
   "cell_type": "code",
   "execution_count": null,
   "metadata": {},
   "outputs": [],
   "source": [
    "figsize(18,12)\n",
    "sel = (df.valid_vc & (df.projection_group == 'company'))\n",
    "ax = plot_vcp(df[sel], end=2035, ret_ax=True); clf()   # Get axis of above plot\n",
    "plot_vcp(df[sel], end=2035, leak_cost_wacc=1.05, ax=ax, save_as='vcp_2035_leak1.05_sameax')"
   ]
  },
  {
   "cell_type": "code",
   "execution_count": null,
   "metadata": {},
   "outputs": [],
   "source": [
    "# TODO: custom plot showing how costs shift up. Draw both non-leaky and leaky points."
   ]
  },
  {
   "cell_type": "code",
   "execution_count": null,
   "metadata": {},
   "outputs": [],
   "source": [
    "# Aggregate: messy version with companies and aggregations\n",
    "figsize(18,12)\n",
    "sel = (df.valid_vc & (sel_prefer_aggregate | (df.projection_group == 'company')))\n",
    "plot_vcp(df[sel], end=2035, save_as='vcp_2035_coandag')"
   ]
  },
  {
   "cell_type": "code",
   "execution_count": null,
   "metadata": {},
   "outputs": [],
   "source": [
    "# Aggregate: Just aggregations\n",
    "figsize(18,12)\n",
    "sel = (df.valid_vc & sel_prefer_aggregate)\n",
    "plot_vcp(df[sel], end=2035, save_as='vcp_2035_ag')"
   ]
  },
  {
   "cell_type": "code",
   "execution_count": null,
   "metadata": {},
   "outputs": [],
   "source": [
    "# Aggregate: messy version with companies and aggregations. With leak.\n",
    "# Will generate errors if you ignored the \"# Ensure permanence_value is filled in where needed\" block above\n",
    "figsize(18,12)\n",
    "sel = (df.valid_vc & (sel_prefer_aggregate | (df.projection_group == 'company')))\n",
    "plot_vcp(df[sel], end=2035, leak_cost_wacc=1.05, save_as='vcp_2035_coandag_leak1.05')"
   ]
  },
  {
   "cell_type": "code",
   "execution_count": null,
   "metadata": {},
   "outputs": [],
   "source": [
    "# Aggregate: Just aggregations. With leak.\n",
    "figsize(18,12)\n",
    "sel = (df.valid_vc & sel_prefer_aggregate)\n",
    "plot_vcp(df[sel], end=2035, leak_cost_wacc=1.05, save_as='vcp_2035_ag_leak1.05')"
   ]
  },
  {
   "cell_type": "code",
   "execution_count": null,
   "metadata": {},
   "outputs": [],
   "source": []
  },
  {
   "cell_type": "code",
   "execution_count": null,
   "metadata": {},
   "outputs": [],
   "source": []
  },
  {
   "cell_type": "markdown",
   "metadata": {},
   "source": [
    "### Animated versions (takes a while to plot and save all)"
   ]
  },
  {
   "cell_type": "markdown",
   "metadata": {},
   "source": [
    "Animated versions have matches axes (though some shift when text goes off the right side)."
   ]
  },
  {
   "cell_type": "code",
   "execution_count": null,
   "metadata": {},
   "outputs": [],
   "source": [
    "# Expensive: generate each frame for animation\n",
    "figsize(18,12)\n",
    "sel = (df.valid_vc & (df.projection_group == 'company'))\n",
    "ax = plot_vcp(df[sel], end=year, ret_ax=True)   # Get axis of final plot\n",
    "for year in range(first_year, last_year + 1):\n",
    "    clf()\n",
    "    plot_vcp(df[sel], end=year, ax=ax, save_as='vcp_anim_%d' % year)"
   ]
  },
  {
   "cell_type": "code",
   "execution_count": null,
   "metadata": {},
   "outputs": [],
   "source": [
    "# Expensive: generate each frame for animation. Version used for animation in final presentation\n",
    "figsize(18,12)\n",
    "sel = (df.valid_vc & (df.projection_group == 'company'))\n",
    "ax = plot_vcp(df[sel], end=year, leak_cost_wacc=1.05, do_text=False, do_legend=True, ret_ax=True)   # Get axis of final plot\n",
    "for year in range(first_year, last_year + 1):\n",
    "    clf()\n",
    "    plot_vcp(df[sel], end=year, ax=ax, leak_cost_wacc=1.05, do_text=False, do_legend=True, save_as='vcp_anim_notext_%d' % year)"
   ]
  },
  {
   "cell_type": "code",
   "execution_count": null,
   "metadata": {},
   "outputs": [],
   "source": [
    "### TODO: more animated versions if desired."
   ]
  },
  {
   "cell_type": "markdown",
   "metadata": {},
   "source": [
    "### Misc older plots"
   ]
  },
  {
   "cell_type": "code",
   "execution_count": null,
   "metadata": {},
   "outputs": [],
   "source": [
    "if False:\n",
    "    # Linear versions for Jenny\n",
    "    figsize(18,12)\n",
    "    sel = (df.valid_vc & (df.projection_group == 'company'))\n",
    "    #plot_vcp(df[sel], save_as='carbon_plan_vol_cost_pt')\n",
    "    plot_vcp(df[sel], end=2035, logx=False, logy=False, save_as='vcp_2035_linx_liny')"
   ]
  },
  {
   "cell_type": "markdown",
   "metadata": {},
   "source": [
    "## Volume vs. Cost as Curve (`vcc_*` files)"
   ]
  },
  {
   "cell_type": "code",
   "execution_count": null,
   "metadata": {},
   "outputs": [],
   "source": [
    "from matplotlib.ticker import EngFormatter\n",
    "\n",
    "def plot_vcc(df_in, year=2020, logx=False, logy=True, ax=None, save_as=None):\n",
    "    '''Plot data from first year to last year, highlighting last year.'''\n",
    "    \n",
    "    # Create a copy so we can add temp columns and sort\n",
    "    df = df_in.copy()\n",
    "    \n",
    "    # Use average volume and cost for now\n",
    "    df['vv'] = df.loc[:, ['vol_%d_min' % year, 'vol_%d_max' % year]].mean(axis=1)\n",
    "    df['cc'] = df.loc[:, ['cost_%d_min' % year, 'cost_%d_max' % year]].mean(axis=1)\n",
    "    \n",
    "    # Sort from cheapest to most expensive\n",
    "    df.sort_values(by='cc', inplace=True)\n",
    "    \n",
    "    df['vv_cumsum'] = df.vv.cumsum()\n",
    "    \n",
    "    # Deal with logx and logy\n",
    "    min_y = 0 if not logy else 0.1\n",
    "\n",
    "    last_vv_cumsum = 10.0\n",
    "    for ii, proj in enumerate(df.itertuples()):\n",
    "        #print('project is', type(project))\n",
    "        #project = df.iloc[ii]\n",
    "        clr = proj.clr\n",
    "        vols = get_vols(project)\n",
    "        costs = get_costs(project)\n",
    "        \n",
    "        # Just line\n",
    "        #plot([last_vv_cumsum, proj.vv_cumsum], [proj.cc, proj.cc], '-', c=proj.clr, lw=2)\n",
    "        \n",
    "        # Left point\n",
    "        plot([last_vv_cumsum], [proj.cc], 'o', c=proj.clr, ms=16)\n",
    "        text(last_vv_cumsum, proj.cc, '  %s  ' % proj.applicant)\n",
    "\n",
    "        # Right point\n",
    "        #plot([proj.vv_cumsum], [proj.cc], 'o', c=proj.clr, ms=16)\n",
    "        #text(proj.vv_cumsum, proj.cc, '%s  ' % proj.applicant, ha='right')\n",
    "\n",
    "        # Fill below\n",
    "        fill_between([last_vv_cumsum, proj.vv_cumsum], [proj.cc, proj.cc], color=proj.clr)\n",
    "        \n",
    "        last_vv_cumsum = proj.vv_cumsum\n",
    "    annotate('%s' % year, xy=(.02, .93), xycoords='axes fraction', fontsize=32, va='top')\n",
    "    xlabel('Cumulative Volume (tons)')\n",
    "    ylabel('Cost ($/ton)')\n",
    "    if logx: gca().set_xscale('log')\n",
    "    if logy: gca().set_yscale('log')\n",
    "    nice_vc_axes(skip_x=True)\n",
    "    gca().xaxis.set_major_formatter(EngFormatter())\n",
    "    if ax: axis(ax)\n",
    "    #tight_layout()\n",
    "    if save_as:\n",
    "        savefigs(save_as)"
   ]
  },
  {
   "cell_type": "markdown",
   "metadata": {},
   "source": [
    "### In the years 2020, 2025, 2030, 2035"
   ]
  },
  {
   "cell_type": "code",
   "execution_count": null,
   "metadata": {
    "scrolled": false
   },
   "outputs": [],
   "source": [
    "# Just one unsaved plot\n",
    "figsize(18,10)\n",
    "sel = (df.valid_vc & (df.projection_group == 'company'))\n",
    "plot_vcc(df[sel], 2020)"
   ]
  },
  {
   "cell_type": "code",
   "execution_count": null,
   "metadata": {
    "scrolled": false
   },
   "outputs": [],
   "source": [
    "# Plot all sectors\n",
    "figsize(18,10)\n",
    "sel = (df.valid_vc & (df.projection_group == 'company'))\n",
    "for year in [2020, 2025, 2030, 2035]:\n",
    "    figure()\n",
    "    plot_vcc(df[sel], year, logx=False, logy=True, save_as='vcc_%d' % year)"
   ]
  },
  {
   "cell_type": "code",
   "execution_count": null,
   "metadata": {
    "scrolled": false
   },
   "outputs": [],
   "source": [
    "# Plot all sectors, aggregations\n",
    "figsize(18,10)\n",
    "sel = (df.valid_vc & sel_prefer_aggregate)\n",
    "for year in [2020, 2025, 2030, 2035]:\n",
    "    figure()\n",
    "    plot_vcc(df[sel], year, logx=False, logy=True, save_as='vcc_%d_ag' % year)"
   ]
  },
  {
   "cell_type": "markdown",
   "metadata": {},
   "source": [
    "### Animated versions (takes a while to plot and save all)"
   ]
  },
  {
   "cell_type": "code",
   "execution_count": null,
   "metadata": {},
   "outputs": [],
   "source": [
    "# Generate each frame for animation\n",
    "figsize(18,10)\n",
    "sel = (df.valid_vc & (df.projection_group == 'company'))\n",
    "# Plot and compute final axes\n",
    "plot_vcc(df[sel], 2035, logx=False, logy=True)\n",
    "ax = axis()\n",
    "for year in range(first_year, last_year + 1):\n",
    "    clf()\n",
    "    plot_vcc(df[sel], year, logx=False, logy=True, ax=ax, save_as='vcc_%d_anim_sameax' % year)"
   ]
  },
  {
   "cell_type": "code",
   "execution_count": null,
   "metadata": {},
   "outputs": [],
   "source": [
    "# Generate each frame for animation\n",
    "figsize(18,10)\n",
    "sel = (df.valid_vc & (df.projection_group == 'company'))\n",
    "# Plot and compute final axes\n",
    "for year in range(first_year, last_year + 1):\n",
    "    clf()\n",
    "    plot_vcc(df[sel], year, logx=False, logy=True, save_as='vcc_%d_anim' % year)"
   ]
  },
  {
   "cell_type": "markdown",
   "metadata": {},
   "source": [
    "### Custom versions"
   ]
  },
  {
   "cell_type": "code",
   "execution_count": null,
   "metadata": {},
   "outputs": [],
   "source": [
    "# Plot a single sector supply curve for 2020\n",
    "figsize(18,4)\n",
    "sel = (df.valid_vc & (df.projection_group == 'company') & (df.pt == 'soil'))\n",
    "plot_vcc(df[sel], 2020, logx=False, logy=True, save_as='vcc_2020_soil')"
   ]
  },
  {
   "cell_type": "code",
   "execution_count": null,
   "metadata": {},
   "outputs": [],
   "source": [
    "# Plot a single sector supply curve for the next three years\n",
    "figsize(18,4)\n",
    "sel = (df.valid_vc & (df.projection_group == 'company') & (df.pt == 'soil'))\n",
    "plot_vcc(df[sel], 2022, logx=False, logy=True)\n",
    "ax=axis(); clf()\n",
    "print(ax)\n",
    "plot_vcc(df[sel], 2020, logx=False, logy=True, ax=ax, save_as='vcc_2020_soil_sameax')\n",
    "figure()\n",
    "plot_vcc(df[sel], 2021, logx=False, logy=True, ax=ax, save_as='vcc_2021_soil_sameax')\n",
    "figure()\n",
    "plot_vcc(df[sel], 2022, logx=False, logy=True, ax=ax, save_as='vcc_2022_soil_sameax')"
   ]
  },
  {
   "cell_type": "code",
   "execution_count": null,
   "metadata": {},
   "outputs": [],
   "source": []
  },
  {
   "cell_type": "code",
   "execution_count": null,
   "metadata": {},
   "outputs": [],
   "source": []
  },
  {
   "cell_type": "code",
   "execution_count": null,
   "metadata": {},
   "outputs": [],
   "source": []
  },
  {
   "cell_type": "code",
   "execution_count": null,
   "metadata": {},
   "outputs": [],
   "source": []
  },
  {
   "cell_type": "code",
   "execution_count": null,
   "metadata": {},
   "outputs": [],
   "source": []
  },
  {
   "cell_type": "code",
   "execution_count": null,
   "metadata": {},
   "outputs": [],
   "source": []
  },
  {
   "cell_type": "code",
   "execution_count": null,
   "metadata": {},
   "outputs": [],
   "source": []
  },
  {
   "cell_type": "markdown",
   "metadata": {},
   "source": [
    "# Misc static plots for presentation"
   ]
  },
  {
   "cell_type": "code",
   "execution_count": null,
   "metadata": {},
   "outputs": [],
   "source": [
    "tt = arange(30)"
   ]
  },
  {
   "cell_type": "code",
   "execution_count": null,
   "metadata": {},
   "outputs": [],
   "source": [
    "plot(tt, exp(-(1/15) * tt), lw=3)\n",
    "axhline(0, color='k')\n",
    "axvline(0, color='k')\n",
    "axvline(15, ls=':', color='k')\n",
    "savefigs('example_decay_exponential')"
   ]
  },
  {
   "cell_type": "code",
   "execution_count": null,
   "metadata": {},
   "outputs": [],
   "source": [
    "plot(tt, maximum(1 - (1/15 * tt), 0), lw=3)\n",
    "axhline(0, color='k')\n",
    "axvline(0, color='k')\n",
    "axvline(15, ls=':', color='k')\n",
    "savefigs('example_decay_linear')"
   ]
  },
  {
   "cell_type": "code",
   "execution_count": null,
   "metadata": {},
   "outputs": [],
   "source": [
    "plot(tt, (tt < 15) * 1.0, lw=3)\n",
    "axhline(0, color='k')\n",
    "axvline(0, color='k')\n",
    "axvline(15, ls=':', color='k')\n",
    "savefigs('example_decay_step')"
   ]
  },
  {
   "cell_type": "markdown",
   "metadata": {},
   "source": [
    "# Scratch"
   ]
  },
  {
   "cell_type": "code",
   "execution_count": null,
   "metadata": {},
   "outputs": [],
   "source": [
    "# display_full(df.iloc[91:92])"
   ]
  },
  {
   "cell_type": "code",
   "execution_count": null,
   "metadata": {},
   "outputs": [],
   "source": [
    "# OLD\n",
    "if False:\n",
    "    # Fill in missing data with copies of old data until new data is encountered.\n",
    "    for year in range(2021, 2036):\n",
    "        prev_min = 'cost_%s_min' % (year - 1)\n",
    "        this_min = 'cost_%s_min' % year\n",
    "        sel = df.valid_vc & (df[this_min] == '')\n",
    "        df.loc[sel, this_min] = df[sel][prev_min]\n",
    "\n",
    "        prev_max = 'cost_%s_max' % (year - 1)\n",
    "        this_max = 'cost_%s_max' % year\n",
    "        sel = df.valid_vc & (df[this_max] == '')\n",
    "        df.loc[sel, this_max] = df[sel][[this_min, prev_max]].max(axis=1)\n",
    "\n",
    "        prev_min = 'vol_%s_min' % (year - 1)\n",
    "        this_min = 'vol_%s_min' % year\n",
    "        sel = df.valid_vc & (df[this_min] == '')\n",
    "        df.loc[sel, this_min] = df[sel][prev_min]\n",
    "\n",
    "        prev_max = 'vol_%s_max' % (year - 1)\n",
    "        this_max = 'vol_%s_max' % year\n",
    "        sel = df.valid_vc & (df[this_max] == '')\n",
    "        df.loc[sel, this_max] = df[sel][[this_min, prev_max]].max(axis=1)"
   ]
  },
  {
   "cell_type": "code",
   "execution_count": null,
   "metadata": {},
   "outputs": [],
   "source": [
    "#OLD\n",
    "if False:\n",
    "    def plot_single_vol_cost_curve(df, save_as=None, plot_legend=True):\n",
    "        df = df.sort_values(by='cost_value')\n",
    "\n",
    "        cv_cost = []\n",
    "        cv_vol = []\n",
    "        for ii, project in enumerate(df.itertuples()):\n",
    "            # Left point\n",
    "            cv_vol.append(0 if len(cv_vol) == 0 else cv_vol[-1])\n",
    "            cv_cost.append(project.cost_value)\n",
    "            # Right point\n",
    "            cv_vol.append(cv_vol[-1] + project.volume_value)\n",
    "            cv_cost.append(project.cost_value)    \n",
    "            clr = project.clr\n",
    "            pt = project.pt\n",
    "        cv_cost = array(cv_cost)\n",
    "        cv_vol = array(cv_vol)\n",
    "        plot(cv_vol, cv_cost, 'o', mfc='w', mec=clr, ms=12)\n",
    "        fill_between(cv_vol, cv_cost, color=clr)\n",
    "        xlabel('Volume (tons)')\n",
    "        ylabel('Cost ($/ton)')\n",
    "        if plot_legend:\n",
    "            legend((pt,), loc='upper left')\n",
    "        tight_layout()\n",
    "        ylim(bottom=0)\n",
    "        if save_as:\n",
    "            savefigs(save_as)"
   ]
  },
  {
   "cell_type": "code",
   "execution_count": null,
   "metadata": {},
   "outputs": [],
   "source": []
  },
  {
   "cell_type": "code",
   "execution_count": null,
   "metadata": {},
   "outputs": [],
   "source": []
  }
 ],
 "metadata": {
  "kernelspec": {
   "display_name": "Python 3",
   "language": "python",
   "name": "python3"
  },
  "language_info": {
   "codemirror_mode": {
    "name": "ipython",
    "version": 3
   },
   "file_extension": ".py",
   "mimetype": "text/x-python",
   "name": "python",
   "nbconvert_exporter": "python",
   "pygments_lexer": "ipython3",
   "version": "3.9.4"
  },
  "toc": {
   "base_numbering": 1,
   "nav_menu": {},
   "number_sections": true,
   "sideBar": true,
   "skip_h1_title": false,
   "title_cell": "Table of Contents",
   "title_sidebar": "Contents",
   "toc_cell": false,
   "toc_position": {},
   "toc_section_display": true,
   "toc_window_display": false
  }
 },
 "nbformat": 4,
 "nbformat_minor": 4
}
